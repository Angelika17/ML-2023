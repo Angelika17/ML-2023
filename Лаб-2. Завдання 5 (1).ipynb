{
 "cells": [
  {
   "cell_type": "markdown",
   "metadata": {},
   "source": [
    "#  Лабораторна робота №2 (продовження)\n",
    "***"
   ]
  },
  {
   "cell_type": "markdown",
   "metadata": {},
   "source": [
    "### Функції: простір імен (namespace) та область видимости (scope)\n",
    "\n",
    "__Функція__ - це блок програмного коду, який виконує деяку ізольовану задачу і може викликатись з іншого місця програми.\n",
    "\n",
    "[Докладніше про функції](https://uk.wikipedia.org/wiki/Підпрограма)\n",
    "\n",
    "_Функція_ характерізується наступними _властивостями_ :\n",
    "\n",
    "- __ім'я__ - символічне посилання по якому функція викликається\n",
    "- __аргументи__(параметри) - список об'єктів, які передаються в функцію ззовні\n",
    "- __значення, що повертаються__ - об'єкти, які повертає функція перед тим, як завершити свою роботу "
   ]
  },
  {
   "cell_type": "code",
   "execution_count": 1,
   "metadata": {},
   "outputs": [],
   "source": [
    "def some_func(arg1, arg2):\n",
    "    ''' Це якась функція'''\n",
    "    a = arg1 * 2\n",
    "    return a    "
   ]
  },
  {
   "cell_type": "code",
   "execution_count": 2,
   "metadata": {},
   "outputs": [
    {
     "data": {
      "text/plain": [
       "(function, 1790291687888)"
      ]
     },
     "execution_count": 2,
     "metadata": {},
     "output_type": "execute_result"
    }
   ],
   "source": [
    "type(some_func), id(some_func)"
   ]
  },
  {
   "cell_type": "code",
   "execution_count": 3,
   "metadata": {},
   "outputs": [
    {
     "name": "stdout",
     "output_type": "stream",
     "text": [
      "['__annotations__', '__call__', '__class__', '__closure__', '__code__', '__defaults__', '__delattr__', '__dict__', '__dir__', '__doc__', '__eq__', '__format__', '__ge__', '__get__', '__getattribute__', '__globals__', '__gt__', '__hash__', '__init__', '__init_subclass__', '__kwdefaults__', '__le__', '__lt__', '__module__', '__name__', '__ne__', '__new__', '__qualname__', '__reduce__', '__reduce_ex__', '__repr__', '__setattr__', '__sizeof__', '__str__', '__subclasshook__']\n"
     ]
    }
   ],
   "source": [
    "print(dir(some_func))"
   ]
  },
  {
   "cell_type": "code",
   "execution_count": 4,
   "metadata": {
    "scrolled": true
   },
   "outputs": [
    {
     "data": {
      "text/plain": [
       "(' Це якась функція',\n",
       " 'some_func',\n",
       " <code object some_func at 0x000001A0D5B553A0, file \"<ipython-input-1-81bad4e56389>\", line 1>,\n",
       " '__main__')"
      ]
     },
     "execution_count": 4,
     "metadata": {},
     "output_type": "execute_result"
    }
   ],
   "source": [
    "some_func.__doc__, some_func.__name__, some_func.__code__, some_func.__module__"
   ]
  },
  {
   "cell_type": "code",
   "execution_count": 5,
   "metadata": {},
   "outputs": [
    {
     "name": "stdout",
     "output_type": "stream",
     "text": [
      "def some_func(arg1, arg2):\n",
      "    ''' Це якась функція'''\n",
      "    a = arg1 * 2\n",
      "    return a    \n"
     ]
    }
   ],
   "source": [
    "print(some_func.__globals__[\"_ih\"][1])"
   ]
  },
  {
   "cell_type": "markdown",
   "metadata": {},
   "source": [
    "___ім'я функції___ - будь-яке припустиме ім'я python-змінної\n",
    "\n",
    "___аргументи функції___ - будь-які об'єкти _python_ (можуть бути відсутні)\n",
    "\n",
    "Два типи аргументів:\n",
    "1. __Позиціоновані__ ```def f (arg1, \"John\", 123): ```\n",
    "2. __Іменовані__ ``` def f (name = \"John\", par = 123): ```\n",
    "\n",
    "__Правило:__ спочатку записуються позиціоновані аргументи, потім іменовані\n",
    "\n",
    "__Значення що повертається__ - будь який припустимий об'єкт чи перелік об'єктів який йде після ```return```, або нічого \n",
    "\n",
    "##### return завжди завершує виконання функції\n",
    "\n",
    "#### функція - це БЛОЧНА структура\n"
   ]
  },
  {
   "cell_type": "code",
   "execution_count": 6,
   "metadata": {},
   "outputs": [],
   "source": [
    "def f (a, n = 1):\n",
    "    c = \"ccc\"\n",
    "    print(n, a, c)\n",
    "    return "
   ]
  },
  {
   "cell_type": "markdown",
   "metadata": {},
   "source": [
    "#### Простір імен - це словник (dict), який вміщує посилання на об'єкти, що знаходяться всередині блоку\n",
    "\n",
    "__Типи__ namespace:\n",
    "\n",
    "1. Вбудований (Builtins) - створюється при запуску Python\n",
    "2. Глобальний (Global) - створюється при запуску програмного модуля\n",
    "3. Локальний (Local) - створюється для кожного блока програми (def, for, with, ...)\n",
    "4. Огорожений (Enclosed) - створюється коли є вкдаденість блоків\n",
    "\n"
   ]
  },
  {
   "cell_type": "code",
   "execution_count": null,
   "metadata": {},
   "outputs": [],
   "source": [
    "# Вбудований namespace\n",
    "print(dir(__builtins__))"
   ]
  },
  {
   "cell_type": "code",
   "execution_count": null,
   "metadata": {
    "scrolled": true
   },
   "outputs": [],
   "source": [
    "# Глобальний namespace\n",
    "print(dir())"
   ]
  },
  {
   "cell_type": "code",
   "execution_count": null,
   "metadata": {},
   "outputs": [],
   "source": [
    "def f (a, n = 1):\n",
    "    c = \"ccc\"\n",
    "    print(n, a, c)\n",
    "    # Локальний namespace\n",
    "    print(dir())"
   ]
  },
  {
   "cell_type": "code",
   "execution_count": null,
   "metadata": {},
   "outputs": [],
   "source": [
    "f(123)"
   ]
  },
  {
   "cell_type": "code",
   "execution_count": null,
   "metadata": {},
   "outputs": [],
   "source": [
    "# Глобальний об'єкт\n",
    "x = [111, 222]\n",
    "\n",
    "def f (a, b = 1):\n",
    "    c = \"ccc\"\n",
    "    \n",
    "    # вкладений блок\n",
    "    def g ():\n",
    "        d = 999\n",
    "        # x = 0\n",
    "        print(\"Функція g:\")\n",
    "        print('\\t',a, b, c, d, x)\n",
    "        print('\\t', dir(),'\\n')\n",
    "    \n",
    "    g()\n",
    "    # x = -999\n",
    "    print(\"Функція f:\")\n",
    "    print(a, b, c, x)\n",
    "    print(dir())\n"
   ]
  },
  {
   "cell_type": "code",
   "execution_count": null,
   "metadata": {},
   "outputs": [],
   "source": [
    "f(123)"
   ]
  },
  {
   "cell_type": "markdown",
   "metadata": {},
   "source": [
    "#### Область видимості (scope)  - це блок коду де об'єкт є доступним\n",
    "\n",
    "__Scope__ діє __тільки__ для функцій, моодулів та класів"
   ]
  },
  {
   "cell_type": "code",
   "execution_count": null,
   "metadata": {},
   "outputs": [],
   "source": [
    "x = 10\n",
    "for _ in [1, 2, 3]:\n",
    "    x += 1\n",
    "\n",
    "print(x)"
   ]
  },
  {
   "cell_type": "markdown",
   "metadata": {},
   "source": [
    "### Модулі та пакети"
   ]
  },
  {
   "cell_type": "markdown",
   "metadata": {},
   "source": [
    "__Модуль__ - це програмний код, який містить функції об'єднані для вирішення якоїсь задачі\n",
    "\n",
    "__Пакет__ - це сукупність модулів, що знаходяться в одній директорії в якій додатково розміщується файл с назвою __init.py__\n",
    "\n",
    "[Докладніше про модулі і пакети](https://devpractice.ru/python-lesson-13-modules-and-packages/)\n",
    "\n",
    "В [Стандартній бібліотеці Python](https://docs.python.org/3/library/) наведено перелік модулів, які доступні по замовченню\n",
    "\n",
    "Інші модулі треба завантажувати та інсталювати з офіційного репозиторію python-модулів [PyPi](https://pypi.org). Завантаження виконується за допомогою пакетного менеджера [pip](https://pythonworld.ru/osnovy/pip.html)"
   ]
  },
  {
   "cell_type": "code",
   "execution_count": 7,
   "metadata": {},
   "outputs": [],
   "source": [
    "# підключення модулів до програмного коду\n",
    "import math"
   ]
  },
  {
   "cell_type": "code",
   "execution_count": 8,
   "metadata": {},
   "outputs": [
    {
     "data": {
      "text/plain": [
       "'This module provides access to the mathematical functions\\ndefined by the C standard.'"
      ]
     },
     "execution_count": 8,
     "metadata": {},
     "output_type": "execute_result"
    }
   ],
   "source": [
    "math.__doc__"
   ]
  },
  {
   "cell_type": "code",
   "execution_count": 9,
   "metadata": {},
   "outputs": [
    {
     "name": "stdout",
     "output_type": "stream",
     "text": [
      "['__doc__', '__loader__', '__name__', '__package__', '__spec__', 'acos', 'acosh', 'asin', 'asinh', 'atan', 'atan2', 'atanh', 'ceil', 'comb', 'copysign', 'cos', 'cosh', 'degrees', 'dist', 'e', 'erf', 'erfc', 'exp', 'expm1', 'fabs', 'factorial', 'floor', 'fmod', 'frexp', 'fsum', 'gamma', 'gcd', 'hypot', 'inf', 'isclose', 'isfinite', 'isinf', 'isnan', 'isqrt', 'ldexp', 'lgamma', 'log', 'log10', 'log1p', 'log2', 'modf', 'nan', 'perm', 'pi', 'pow', 'prod', 'radians', 'remainder', 'sin', 'sinh', 'sqrt', 'tan', 'tanh', 'tau', 'trunc']\n"
     ]
    }
   ],
   "source": [
    "print(dir(math))"
   ]
  },
  {
   "cell_type": "code",
   "execution_count": 10,
   "metadata": {},
   "outputs": [
    {
     "data": {
      "text/plain": [
       "6.794415866350106"
      ]
     },
     "execution_count": 10,
     "metadata": {},
     "output_type": "execute_result"
    }
   ],
   "source": [
    "# підключення окремої функції з модуля\n",
    "from math import log2 \n",
    "log2(111)"
   ]
  },
  {
   "cell_type": "code",
   "execution_count": null,
   "metadata": {},
   "outputs": [],
   "source": []
  }
 ],
 "metadata": {
  "kernelspec": {
   "display_name": "Python 3",
   "language": "python",
   "name": "python3"
  },
  "language_info": {
   "codemirror_mode": {
    "name": "ipython",
    "version": 3
   },
   "file_extension": ".py",
   "mimetype": "text/x-python",
   "name": "python",
   "nbconvert_exporter": "python",
   "pygments_lexer": "ipython3",
   "version": "3.8.8"
  },
  "varInspector": {
   "cols": {
    "lenName": 16,
    "lenType": 16,
    "lenVar": 40
   },
   "kernels_config": {
    "python": {
     "delete_cmd_postfix": "",
     "delete_cmd_prefix": "del ",
     "library": "var_list.py",
     "varRefreshCmd": "print(var_dic_list())"
    },
    "r": {
     "delete_cmd_postfix": ") ",
     "delete_cmd_prefix": "rm(",
     "library": "var_list.r",
     "varRefreshCmd": "cat(var_dic_list()) "
    }
   },
   "types_to_exclude": [
    "module",
    "function",
    "builtin_function_or_method",
    "instance",
    "_Feature"
   ],
   "window_display": false
  }
 },
 "nbformat": 4,
 "nbformat_minor": 2
}
