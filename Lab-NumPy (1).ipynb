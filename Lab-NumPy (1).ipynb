{
 "cells": [
  {
   "cell_type": "markdown",
   "id": "37f7333b",
   "metadata": {},
   "source": [
    "# Лабораторна робота \"Операції над масивами NumPy\"\n",
    "\n",
    "__Метою__ лабораторної роботи є набуття практичних навичок та закріплення теоретичних знань по обробці великих однорідних наборів даних які розташовані у вигляді масивів бібліотеки __NumPy__.\n",
    "\n",
    "Виконати послідовно завдання в секціях, попередню засвоївши наведені приклади\n",
    "В завданнях продовжити написання коду замість `...`. \n",
    "\n",
    "__Імена змінних в завданнях змінювати не можна!__"
   ]
  },
  {
   "cell_type": "markdown",
   "id": "cff5adf7",
   "metadata": {
    "heading_collapsed": true
   },
   "source": [
    "### Предвстановлення"
   ]
  },
  {
   "cell_type": "code",
   "execution_count": 1,
   "id": "3dc7e8d5",
   "metadata": {
    "hidden": true
   },
   "outputs": [],
   "source": [
    "# Імпортувати бібліотеку numpy з аліасом np\n",
    "import numpy as np"
   ]
  },
  {
   "cell_type": "code",
   "execution_count": 2,
   "id": "e7bd3f03",
   "metadata": {
    "code_folding": [],
    "hidden": true
   },
   "outputs": [
    {
     "data": {
      "text/html": [
       "<div>\n",
       "<style scoped>\n",
       "    .dataframe tbody tr th:only-of-type {\n",
       "        vertical-align: middle;\n",
       "    }\n",
       "\n",
       "    .dataframe tbody tr th {\n",
       "        vertical-align: top;\n",
       "    }\n",
       "\n",
       "    .dataframe thead th {\n",
       "        text-align: right;\n",
       "    }\n",
       "</style>\n",
       "<table border=\"1\" class=\"dataframe\">\n",
       "  <thead>\n",
       "    <tr style=\"text-align: right;\">\n",
       "      <th></th>\n",
       "      <th>Type</th>\n",
       "      <th>Type Code</th>\n",
       "    </tr>\n",
       "  </thead>\n",
       "  <tbody>\n",
       "    <tr>\n",
       "      <th>0</th>\n",
       "      <td>int8</td>\n",
       "      <td>i1</td>\n",
       "    </tr>\n",
       "    <tr>\n",
       "      <th>1</th>\n",
       "      <td>uint8</td>\n",
       "      <td>u1</td>\n",
       "    </tr>\n",
       "    <tr>\n",
       "      <th>2</th>\n",
       "      <td>int16</td>\n",
       "      <td>i2</td>\n",
       "    </tr>\n",
       "    <tr>\n",
       "      <th>3</th>\n",
       "      <td>uint16</td>\n",
       "      <td>u2</td>\n",
       "    </tr>\n",
       "    <tr>\n",
       "      <th>4</th>\n",
       "      <td>int32</td>\n",
       "      <td>i4</td>\n",
       "    </tr>\n",
       "    <tr>\n",
       "      <th>5</th>\n",
       "      <td>uint32</td>\n",
       "      <td>u4</td>\n",
       "    </tr>\n",
       "    <tr>\n",
       "      <th>6</th>\n",
       "      <td>int64</td>\n",
       "      <td>i8</td>\n",
       "    </tr>\n",
       "    <tr>\n",
       "      <th>7</th>\n",
       "      <td>uint64</td>\n",
       "      <td>u8</td>\n",
       "    </tr>\n",
       "    <tr>\n",
       "      <th>8</th>\n",
       "      <td>float16</td>\n",
       "      <td>f2</td>\n",
       "    </tr>\n",
       "    <tr>\n",
       "      <th>9</th>\n",
       "      <td>float32</td>\n",
       "      <td>f4 or f</td>\n",
       "    </tr>\n",
       "    <tr>\n",
       "      <th>10</th>\n",
       "      <td>float64</td>\n",
       "      <td>f8 or d</td>\n",
       "    </tr>\n",
       "    <tr>\n",
       "      <th>11</th>\n",
       "      <td>float128</td>\n",
       "      <td>f16 or g</td>\n",
       "    </tr>\n",
       "    <tr>\n",
       "      <th>12</th>\n",
       "      <td>complex64</td>\n",
       "      <td>c8</td>\n",
       "    </tr>\n",
       "    <tr>\n",
       "      <th>13</th>\n",
       "      <td>complex128</td>\n",
       "      <td>c16</td>\n",
       "    </tr>\n",
       "    <tr>\n",
       "      <th>14</th>\n",
       "      <td>bool</td>\n",
       "      <td></td>\n",
       "    </tr>\n",
       "    <tr>\n",
       "      <th>15</th>\n",
       "      <td>object</td>\n",
       "      <td>O</td>\n",
       "    </tr>\n",
       "    <tr>\n",
       "      <th>16</th>\n",
       "      <td>string_</td>\n",
       "      <td>S</td>\n",
       "    </tr>\n",
       "    <tr>\n",
       "      <th>17</th>\n",
       "      <td>unicode_</td>\n",
       "      <td>U</td>\n",
       "    </tr>\n",
       "  </tbody>\n",
       "</table>\n",
       "</div>"
      ],
      "text/plain": [
       "          Type Type Code\n",
       "0         int8        i1\n",
       "1        uint8        u1\n",
       "2        int16        i2\n",
       "3       uint16        u2\n",
       "4        int32        i4\n",
       "5       uint32        u4\n",
       "6        int64        i8\n",
       "7       uint64        u8\n",
       "8      float16        f2\n",
       "9      float32   f4 or f\n",
       "10     float64   f8 or d\n",
       "11    float128  f16 or g\n",
       "12   complex64        c8\n",
       "13  complex128       c16\n",
       "14        bool          \n",
       "15      object         O\n",
       "16     string_         S\n",
       "17    unicode_         U"
      ]
     },
     "execution_count": 2,
     "metadata": {},
     "output_type": "execute_result"
    }
   ],
   "source": [
    "# Вивід таблиці відповідності кодів типів даних в NumPy\n",
    "import pandas as pd\n",
    "dtypes = pd.DataFrame(\n",
    "    {\n",
    "        'Type': ['int8', 'uint8', 'int16', 'uint16', 'int32', 'uint32', 'int64', 'uint64', 'float16', 'float32', 'float64', 'float128', 'complex64', 'complex128', 'bool', 'object', 'string_', 'unicode_'],\n",
    "        'Type Code': ['i1', 'u1', 'i2', 'u2', 'i4', 'u4', 'i8', 'u8', 'f2', 'f4 or f', 'f8 or d', 'f16 or g', 'c8', 'c16', '', 'O', 'S', 'U']\n",
    "    }\n",
    ")\n",
    "\n",
    "dtypes"
   ]
  },
  {
   "cell_type": "markdown",
   "id": "033f297c",
   "metadata": {
    "heading_collapsed": true
   },
   "source": [
    "## 1. Створення та інспектування _np-массивів_"
   ]
  },
  {
   "cell_type": "markdown",
   "id": "a355eb26",
   "metadata": {
    "hidden": true
   },
   "source": [
    "### ПРИКЛАДИ"
   ]
  },
  {
   "cell_type": "code",
   "execution_count": 4,
   "id": "ad005f08",
   "metadata": {
    "hidden": true
   },
   "outputs": [
    {
     "data": {
      "text/plain": [
       "array([23, 42, 13,  7,  0])"
      ]
     },
     "execution_count": 4,
     "metadata": {},
     "output_type": "execute_result"
    }
   ],
   "source": [
    "# Створити 1-вимірний масив з 5 цілочисельних елементів \n",
    "arr = np.array([23, 42, 13, 7, 0])\n",
    "arr"
   ]
  },
  {
   "cell_type": "code",
   "execution_count": 5,
   "id": "223b11eb",
   "metadata": {
    "hidden": true
   },
   "outputs": [
    {
     "name": "stdout",
     "output_type": "stream",
     "text": [
      "class:  ndarray\n",
      "shape:  (5,)\n",
      "strides:  (4,)\n",
      "itemsize:  4\n",
      "aligned:  True\n",
      "contiguous:  True\n",
      "fortran:  True\n",
      "data pointer: 0x1781a811a90\n",
      "byteorder:  little\n",
      "byteswap:  False\n",
      "type: int32\n"
     ]
    }
   ],
   "source": [
    "# Інспектування массива\n",
    "np.info(arr)"
   ]
  },
  {
   "cell_type": "code",
   "execution_count": 6,
   "id": "be71cde5",
   "metadata": {
    "hidden": true
   },
   "outputs": [
    {
     "name": "stdout",
     "output_type": "stream",
     "text": [
      "[[1 2 3]\n",
      " [4 5 6]]\n"
     ]
    }
   ],
   "source": [
    "# створити 2-мірний масив з цілим типом даних у 2-х байтовому форматі\n",
    "arr = np.array([[1,2,3], [4,5,6]], dtype='i2')\n",
    "print(arr)"
   ]
  },
  {
   "cell_type": "code",
   "execution_count": 7,
   "id": "069cfeea",
   "metadata": {
    "hidden": true
   },
   "outputs": [
    {
     "name": "stdout",
     "output_type": "stream",
     "text": [
      "[ 0  2  4  6  8 10 12 14 16 18]\n"
     ]
    }
   ],
   "source": [
    "# створити масив із  значень в інтервалі 0 - 20 з кроком 2\n",
    "# np.arange(start, stop, step)\n",
    "arr = np.arange(0, 20, 2)  \n",
    "print(arr)"
   ]
  },
  {
   "cell_type": "code",
   "execution_count": 8,
   "id": "bca6baaa",
   "metadata": {
    "hidden": true
   },
   "outputs": [
    {
     "name": "stdout",
     "output_type": "stream",
     "text": [
      "[ 0.          0.52631579  1.05263158  1.57894737  2.10526316  2.63157895\n",
      "  3.15789474  3.68421053  4.21052632  4.73684211  5.26315789  5.78947368\n",
      "  6.31578947  6.84210526  7.36842105  7.89473684  8.42105263  8.94736842\n",
      "  9.47368421 10.        ]\n"
     ]
    }
   ],
   "source": [
    "# створити масив із 20 рівномірно розміщених значень в інтервалі 0 - 10 \n",
    "# np.linspace(start, stop, num_of_elements) \n",
    "arr = np.linspace(0, 10, 20)\n",
    "print(arr)"
   ]
  },
  {
   "cell_type": "code",
   "execution_count": 9,
   "id": "d4531bf7",
   "metadata": {
    "hidden": true
   },
   "outputs": [
    {
     "name": "stdout",
     "output_type": "stream",
     "text": [
      "[[0.26681183 0.22215993 0.36323994]\n",
      " [0.244991   0.42355796 0.69741881]\n",
      " [0.52965427 0.25698263 0.16621683]]\n"
     ]
    }
   ],
   "source": [
    "# створити масив 3х3 випадкових значень \n",
    "arr = np.random.rand(3, 3)\n",
    "print(arr)"
   ]
  },
  {
   "cell_type": "code",
   "execution_count": 10,
   "id": "bfcfaf8d",
   "metadata": {
    "hidden": true
   },
   "outputs": [
    {
     "name": "stdout",
     "output_type": "stream",
     "text": [
      "[[0 0 0]\n",
      " [0 0 0]]\n",
      "[[1. 1. 1.]\n",
      " [1. 1. 1.]]\n",
      "[[123 123 123]\n",
      " [123 123 123]]\n"
     ]
    }
   ],
   "source": [
    "# створення нульвих, одиничних та заповнених масивів\n",
    "zeros = np.zeros((2,3), dtype='i4')\n",
    "print(zeros)\n",
    "ones = np.ones((2,3))\n",
    "print(ones)\n",
    "filled = np.full((2,3), 123)\n",
    "print(filled)"
   ]
  },
  {
   "cell_type": "code",
   "execution_count": 11,
   "id": "c2602c56",
   "metadata": {
    "hidden": true,
    "scrolled": true
   },
   "outputs": [
    {
     "name": "stdout",
     "output_type": "stream",
     "text": [
      "[[0.26681183 0.22215993 0.36323994]\n",
      " [0.244991   0.42355796 0.69741881]\n",
      " [0.52965427 0.25698263 0.16621683]]\n",
      "...\n",
      "float64\n",
      "(3, 3)\n",
      "3\n",
      "2\n",
      "9\n",
      "8\n",
      "72\n"
     ]
    }
   ],
   "source": [
    "print(arr, end=\"\\n...\\n\")\n",
    "# інспектування типу массиву `dtype`\n",
    "print(arr.dtype)\n",
    "# інспектування розмірності массиву `shape`\n",
    "print(arr.shape)\n",
    "# інспектування довжини масиву `len`\n",
    "print(len(arr))\n",
    "# інспектування кількості вимірів масиву `ndim`\n",
    "print(arr.ndim)\n",
    "# інспектування кількості елементів в масиві `size`\n",
    "print(arr.size)\n",
    "# інспектування коількості байтів на елемент `itemsize`\n",
    "print(arr.itemsize)\n",
    "# інспектування кількості пам'яти під масив `nbytes`\n",
    "print(arr.nbytes)"
   ]
  },
  {
   "cell_type": "code",
   "execution_count": 12,
   "id": "042b3daf",
   "metadata": {
    "hidden": true
   },
   "outputs": [
    {
     "data": {
      "text/plain": [
       "192"
      ]
     },
     "execution_count": 12,
     "metadata": {},
     "output_type": "execute_result"
    }
   ],
   "source": [
    "arr.__sizeof__()"
   ]
  },
  {
   "cell_type": "markdown",
   "id": "4953e355",
   "metadata": {
    "hidden": true
   },
   "source": [
    "### ЗАВДАННЯ 1"
   ]
  },
  {
   "cell_type": "code",
   "execution_count": 13,
   "id": "7cadc1c0",
   "metadata": {
    "hidden": true
   },
   "outputs": [
    {
     "name": "stdout",
     "output_type": "stream",
     "text": [
      "[[ 1.   2.2  3.   4.5]\n",
      " [ 5.   6.   7.   8.3]\n",
      " [ 9.  10.  11.4 12. ]]\n"
     ]
    }
   ],
   "source": [
    "### ЗАВДАННЯ 1.1: створити та проінспектувати масив 3х4 з ім'ям arr1_1, який містить числа з плавоючою точкою \n",
    "arr1_1 = np.array([[1, 2.2, 3, 4.5],[5, 6, 7, 8.3],[9, 10, 11.4, 12]])\n",
    "print(arr1_1)"
   ]
  },
  {
   "cell_type": "code",
   "execution_count": 14,
   "id": "3c60b406",
   "metadata": {
    "hidden": true
   },
   "outputs": [
    {
     "name": "stdout",
     "output_type": "stream",
     "text": [
      "['Hi' 'I am' 'a student' 'of' 'Data science faculty']\n"
     ]
    }
   ],
   "source": [
    "### ЗАВДАННЯ 1.2: створити одномірний масив з 5 строкових елементів\n",
    "arr1_2 = np.array([\"Hi\",\"I am\",\"a student\",\"of\",\"Data science faculty\"])\n",
    "print(arr1_2)"
   ]
  },
  {
   "cell_type": "code",
   "execution_count": 16,
   "id": "88d0de53",
   "metadata": {
    "hidden": true
   },
   "outputs": [
    {
     "name": "stdout",
     "output_type": "stream",
     "text": [
      "[[1. 1. 1. 1.]\n",
      " [1. 1. 1. 1.]\n",
      " [1. 1. 1. 1.]]\n"
     ]
    }
   ],
   "source": [
    "### ЗАВДАННЯ 1.3: створити одиничний масив 3х4 чисел з плаваючою точкою\n",
    "arr1_3 = np.ones((3,4), dtype=float)\n",
    "print(arr1_3)"
   ]
  },
  {
   "cell_type": "markdown",
   "id": "764fa688",
   "metadata": {
    "heading_collapsed": true
   },
   "source": [
    "## 2. Перетворення форми та типу массивів"
   ]
  },
  {
   "cell_type": "markdown",
   "id": "1c82d0ed",
   "metadata": {
    "hidden": true
   },
   "source": [
    "### ПРИКЛАДИ"
   ]
  },
  {
   "cell_type": "code",
   "execution_count": 17,
   "id": "953c93f0",
   "metadata": {
    "hidden": true,
    "scrolled": true
   },
   "outputs": [
    {
     "name": "stdout",
     "output_type": "stream",
     "text": [
      "[0 1 2 3 4 5 6 7 8 9]\n"
     ]
    }
   ],
   "source": [
    "# створити 2-мірний float-масив (2х5) з лінійного int-списка \n",
    "spisok = list(range(0,10))\n",
    "arr = np.array(spisok)\n",
    "print(arr)"
   ]
  },
  {
   "cell_type": "code",
   "execution_count": 18,
   "id": "3bb56531",
   "metadata": {
    "hidden": true
   },
   "outputs": [
    {
     "name": "stdout",
     "output_type": "stream",
     "text": [
      "[[0 1 2 3 4]\n",
      " [5 6 7 8 9]]\n",
      "int32\n"
     ]
    }
   ],
   "source": [
    "#преретворити форму масива `reshape` \n",
    "arr = arr.reshape((2,5))\n",
    "print(arr)\n",
    "print(arr.dtype)"
   ]
  },
  {
   "cell_type": "code",
   "execution_count": 19,
   "id": "07cdda37",
   "metadata": {
    "hidden": true
   },
   "outputs": [
    {
     "name": "stdout",
     "output_type": "stream",
     "text": [
      "[[0. 1. 2. 3. 4.]\n",
      " [5. 6. 7. 8. 9.]]\n",
      "float64\n"
     ]
    }
   ],
   "source": [
    "# -- 3 перетворити тип масива `astype`\n",
    "arr = arr.astype('float64')\n",
    "print(arr)\n",
    "print(arr.dtype)"
   ]
  },
  {
   "cell_type": "code",
   "execution_count": 20,
   "id": "877770f4",
   "metadata": {
    "hidden": true,
    "scrolled": true
   },
   "outputs": [
    {
     "name": "stdout",
     "output_type": "stream",
     "text": [
      "[0. 1. 2. 3. 4. 5. 6. 7. 8. 9.]\n"
     ]
    }
   ],
   "source": [
    "# 'вирівняти' 2-мірний масив\n",
    "arr = arr.flatten()\n",
    "print(arr)"
   ]
  },
  {
   "cell_type": "markdown",
   "id": "dcb3100f",
   "metadata": {
    "hidden": true
   },
   "source": [
    "### ЗАВДАННЯ 2"
   ]
  },
  {
   "cell_type": "code",
   "execution_count": 22,
   "id": "4f1638f6",
   "metadata": {
    "hidden": true
   },
   "outputs": [
    {
     "name": "stdout",
     "output_type": "stream",
     "text": [
      "[[[False False False]]\n",
      "\n",
      " [[False False False]]\n",
      "\n",
      " [[False False False]]]\n"
     ]
    }
   ],
   "source": [
    "### ЗАВДАННЯ 2.1: створити 3-мірний масив (3х1х3) логічного 'False'\n",
    "arr2_1 = np.zeros((3,1,3), dtype=bool)\n",
    "...\n",
    "print(arr2_1)"
   ]
  },
  {
   "cell_type": "code",
   "execution_count": 25,
   "id": "1c1012f9",
   "metadata": {
    "hidden": true
   },
   "outputs": [
    {
     "name": "stdout",
     "output_type": "stream",
     "text": [
      "[[0 0 0]\n",
      " [0 0 0]\n",
      " [0 0 0]]\n"
     ]
    }
   ],
   "source": [
    "### ЗАВДАННЯ 2.2: перетворити масив arr2_1 в 2-мірний масив (3х3) типу int\n",
    "arr2_2 = arr2_1.reshape((3,3))\n",
    "arr2_2= arr2_2.astype(\"int16\")\n",
    "print(arr2_2)"
   ]
  },
  {
   "cell_type": "code",
   "execution_count": 29,
   "id": "a6d4dbf1",
   "metadata": {
    "hidden": true
   },
   "outputs": [
    {
     "name": "stdout",
     "output_type": "stream",
     "text": [
      "[[10 12 14]\n",
      " [16 18 20]]\n"
     ]
    }
   ],
   "source": [
    "### ЗАВДАННЯ 2.3: створити  2-мірний масив парних чисел в інтервалі 10-21\n",
    "arr2_3 = np.arange(10,21,2)\n",
    "arr2_3=arr2_3.reshape(2,3)\n",
    "\n",
    "...\n",
    "print(arr2_3)"
   ]
  },
  {
   "cell_type": "markdown",
   "id": "d2418105",
   "metadata": {
    "heading_collapsed": true
   },
   "source": [
    "## 3. Доступ до  елементів масива"
   ]
  },
  {
   "cell_type": "markdown",
   "id": "eea944cf",
   "metadata": {
    "hidden": true
   },
   "source": [
    "### ПРИКЛАДИ"
   ]
  },
  {
   "cell_type": "code",
   "execution_count": 33,
   "id": "5ff72006",
   "metadata": {
    "hidden": true
   },
   "outputs": [
    {
     "name": "stdout",
     "output_type": "stream",
     "text": [
      "[10  6  7 21 44]\n",
      "10\n",
      "7\n",
      "44\n"
     ]
    }
   ],
   "source": [
    "arr = np.array([10, 6, 7, 21, 44]) \n",
    "print(arr)\n",
    "\n",
    "# 1-й елемент \n",
    "print(arr[0])\n",
    "# 3-й елемент\n",
    "print(arr[2])\n",
    "# останній елемент\n",
    "print(arr[-1])"
   ]
  },
  {
   "cell_type": "code",
   "execution_count": 47,
   "id": "002a1aff",
   "metadata": {
    "hidden": true
   },
   "outputs": [
    {
     "name": "stdout",
     "output_type": "stream",
     "text": [
      "[[44 18 18 49]\n",
      " [10 26 21 11]\n",
      " [23 29 38 20]\n",
      " [29 11 35 12]]\n"
     ]
    }
   ],
   "source": [
    "# створити 2-мірний масив з цілих чисел з інтервалу 10-50\n",
    "arr = np.random.randint(10, 50, (4,4))\n",
    "print(arr)"
   ]
  },
  {
   "cell_type": "code",
   "execution_count": 48,
   "id": "8d9a60df",
   "metadata": {
    "hidden": true
   },
   "outputs": [
    {
     "name": "stdout",
     "output_type": "stream",
     "text": [
      "11\n"
     ]
    }
   ],
   "source": [
    "# отримати значення останнього елемента в 2 рядку\n",
    "el = arr[1, -1]\n",
    "print(el)"
   ]
  },
  {
   "cell_type": "code",
   "execution_count": 31,
   "id": "6285da26",
   "metadata": {
    "hidden": true
   },
   "outputs": [
    {
     "name": "stdout",
     "output_type": "stream",
     "text": [
      "[20 31 20 39]\n"
     ]
    }
   ],
   "source": [
    "# отримати значення останнього рядка\n",
    "vect = arr[-1]\n",
    "print(vect)"
   ]
  },
  {
   "cell_type": "code",
   "execution_count": 34,
   "id": "4f87fb55",
   "metadata": {
    "hidden": true
   },
   "outputs": [
    {
     "name": "stdout",
     "output_type": "stream",
     "text": [
      "[10  6]\n"
     ]
    }
   ],
   "source": [
    "# отримати `зріз` з 1 по 2 рядок\n",
    "mat = arr[0:2]\n",
    "print(mat)"
   ]
  },
  {
   "cell_type": "code",
   "execution_count": 56,
   "id": "8ae673b1",
   "metadata": {
    "hidden": true
   },
   "outputs": [
    {
     "name": "stdout",
     "output_type": "stream",
     "text": [
      "[[18 18]\n",
      " [26 21]\n",
      " [29 38]\n",
      " [11 35]]\n"
     ]
    }
   ],
   "source": [
    "# вилучити 2 та 3 стовбчики `arr`\n",
    "mat = arr[0:4, 1:3]\n",
    "print(mat)"
   ]
  },
  {
   "cell_type": "code",
   "execution_count": 37,
   "id": "eaee80a7",
   "metadata": {
    "hidden": true
   },
   "outputs": [
    {
     "name": "stdout",
     "output_type": "stream",
     "text": [
      "[10  7]\n"
     ]
    }
   ],
   "source": [
    "# вилучити непарні рядки `arr`\n",
    "mat = arr[0:4:2]\n",
    "print(mat)"
   ]
  },
  {
   "cell_type": "code",
   "execution_count": 38,
   "id": "08a60d9d",
   "metadata": {
    "hidden": true
   },
   "outputs": [
    {
     "name": "stdout",
     "output_type": "stream",
     "text": [
      "[21 44]\n"
     ]
    }
   ],
   "source": [
    "# фільтрувати елементи масива за умовою\n",
    "els = arr[arr > 20]\n",
    "print(els)"
   ]
  },
  {
   "cell_type": "markdown",
   "id": "972e034d",
   "metadata": {
    "hidden": true
   },
   "source": [
    "### ЗАВДАННЯ 3"
   ]
  },
  {
   "cell_type": "code",
   "execution_count": 39,
   "id": "aab8b56e",
   "metadata": {
    "hidden": true
   },
   "outputs": [
    {
     "data": {
      "text/plain": [
       "array([[74, 46, 86, 90, 36],\n",
       "       [81, 51, 64, 61, 33],\n",
       "       [87, 87, 33, 96, 53],\n",
       "       [72, 41, 24, 25, 96]])"
      ]
     },
     "execution_count": 39,
     "metadata": {},
     "output_type": "execute_result"
    }
   ],
   "source": [
    "### ЗАВДАННЯ 3.1: створити масив 4х5 нормально розподілений випадкових чисел 3 інтервалу [10 - 100]\n",
    "arr3_1 = np.random.randint(10, 100, (4,5))\n",
    "arr3_1"
   ]
  },
  {
   "cell_type": "code",
   "execution_count": 50,
   "id": "ea680bc0",
   "metadata": {
    "hidden": true
   },
   "outputs": [
    {
     "name": "stdout",
     "output_type": "stream",
     "text": [
      "33\n"
     ]
    }
   ],
   "source": [
    "### ЗАВДАННЯ 3.2:  вивести 3-елемент в 2-му рядку\n",
    "el3_2 = arr3_1[2, 2]\n",
    "print(el3_2)"
   ]
  },
  {
   "cell_type": "code",
   "execution_count": 55,
   "id": "72b9576d",
   "metadata": {
    "hidden": true
   },
   "outputs": [
    {
     "name": "stdout",
     "output_type": "stream",
     "text": [
      "[[81 51 64 61 33]]\n"
     ]
    }
   ],
   "source": [
    "### ЗАВДАННЯ 3.3:  вивести 2-й рядок масива `arr3_1`\n",
    "vect3_3 = arr3_1[1:2]\n",
    "print(vect3_3)"
   ]
  },
  {
   "cell_type": "code",
   "execution_count": 66,
   "id": "f5ce8562",
   "metadata": {
    "hidden": true
   },
   "outputs": [
    {
     "name": "stdout",
     "output_type": "stream",
     "text": [
      "[[86]\n",
      " [64]\n",
      " [33]\n",
      " [24]]\n"
     ]
    }
   ],
   "source": [
    "### ЗАВДАННЯ 3.4:  вивести 3 колонку масива `arr3_1`\n",
    "vect3_4 = arr3_1[0:4, 2:3]\n",
    "print(vect3_4)"
   ]
  },
  {
   "cell_type": "code",
   "execution_count": 95,
   "id": "7cba7f34",
   "metadata": {
    "hidden": true
   },
   "outputs": [
    {
     "name": "stdout",
     "output_type": "stream",
     "text": [
      "[[[[81 51 64 61]]]\n",
      "\n",
      "\n",
      " [[[87 87 33 96]]]\n",
      "\n",
      "\n",
      " [[[46 51 87 41]]]\n",
      "\n",
      "\n",
      " [[[86 64 33 24]]]]\n"
     ]
    }
   ],
   "source": [
    "### ЗАВДАННЯ 3.5: вивести матрицю  з 2 та 3 рядка та 2 та 3 колонки масива `arr3_1`\n",
    "a=arr3_1[1:2, 0:-1]\n",
    "b= arr3_1[2:3, 0:-1]\n",
    "c= arr3_1[0:4, 1:2].T\n",
    "v= arr3_1[0:4, 2:3].T\n",
    "mat3_5 = np.array([[a],[b],[c],[v]])\n",
    "\n",
    "\n",
    "print(mat3_5)\n"
   ]
  },
  {
   "cell_type": "markdown",
   "id": "59ba0a73",
   "metadata": {
    "heading_collapsed": true
   },
   "source": [
    "## 4. Матричні компоненти масива"
   ]
  },
  {
   "cell_type": "markdown",
   "id": "15c89faf",
   "metadata": {
    "hidden": true
   },
   "source": [
    "### ПРИКЛАДИ"
   ]
  },
  {
   "cell_type": "code",
   "execution_count": 96,
   "id": "431f5106",
   "metadata": {
    "hidden": true
   },
   "outputs": [
    {
     "name": "stdout",
     "output_type": "stream",
     "text": [
      "[[1. 0. 0.]\n",
      " [0. 1. 0.]\n",
      " [0. 0. 1.]]\n"
     ]
    }
   ],
   "source": [
    "# створити одиничну матрицю розміру 3х3\n",
    "mat = np.eye(3)\n",
    "print(mat)"
   ]
  },
  {
   "cell_type": "code",
   "execution_count": 159,
   "id": "62184035",
   "metadata": {
    "hidden": true
   },
   "outputs": [
    {
     "name": "stdout",
     "output_type": "stream",
     "text": [
      "[[1 0 0 0 0]\n",
      " [0 2 0 0 0]\n",
      " [0 0 3 0 0]\n",
      " [0 0 0 4 0]\n",
      " [0 0 0 0 5]]\n"
     ]
    }
   ],
   "source": [
    "# створити матрицю із заданою диагоналлю\n",
    "mat = np.diag([1,2,3,4,5])\n",
    "print(mat)"
   ]
  },
  {
   "cell_type": "code",
   "execution_count": 160,
   "id": "db16d096",
   "metadata": {
    "hidden": true
   },
   "outputs": [
    {
     "name": "stdout",
     "output_type": "stream",
     "text": [
      "[[0.33993231 0.10172988 0.69276231 0.01415896 0.5817481 ]\n",
      " [0.68314795 0.48344831 0.59055779 0.36568211 0.61443474]\n",
      " [0.42090105 0.08529643 0.36023922 0.33473139 0.91680764]\n",
      " [0.05952998 0.50967368 0.69599155 0.42492183 0.08024669]\n",
      " [0.45816941 0.08865954 0.87286652 0.12346418 0.41049844]]\n",
      "...\n",
      "[0.33993231 0.48344831 0.36023922 0.42492183 0.41049844]\n"
     ]
    }
   ],
   "source": [
    "# вилучити головну діагональ матриці `diag`\n",
    "mat = np.random.rand(5,5)\n",
    "print(mat, end=\"\\n...\\n\")\n",
    "print(np.diag(mat))"
   ]
  },
  {
   "cell_type": "code",
   "execution_count": 99,
   "id": "2dec7657",
   "metadata": {
    "hidden": true
   },
   "outputs": [
    {
     "name": "stdout",
     "output_type": "stream",
     "text": [
      "[[3.72611785e-01 5.97363990e-01 5.34577767e-02 5.49459005e-02\n",
      "  1.22853980e-01]\n",
      " [3.36813552e-01 8.45613608e-01 9.39257332e-01 3.63477887e-02\n",
      "  1.48065782e-01]\n",
      " [1.65381585e-01 5.14216692e-01 7.49505997e-01 6.93611459e-01\n",
      "  3.22097214e-01]\n",
      " [6.73730285e-01 6.14923373e-01 8.72123656e-04 7.57001651e-01\n",
      "  9.91827567e-01]\n",
      " [5.02627425e-01 9.63651818e-01 6.14410017e-02 4.82868069e-01\n",
      "  3.81082278e-01]]\n"
     ]
    }
   ],
   "source": [
    "# транспонувати матрицю `mat` (https://ru.wikipedia.org/wiki/Транспонированная_матрица)\n",
    "mT = np.transpose(mat)\n",
    "print(mT)"
   ]
  },
  {
   "cell_type": "code",
   "execution_count": 100,
   "id": "7cec4e03",
   "metadata": {
    "hidden": true
   },
   "outputs": [
    {
     "name": "stdout",
     "output_type": "stream",
     "text": [
      "-0.02699289236466862\n"
     ]
    }
   ],
   "source": [
    "# отримати детермінант матриці `det` (https://ru.wikipedia.org/wiki/Определитель)\n",
    "print(np.linalg.det(mat))"
   ]
  },
  {
   "cell_type": "code",
   "execution_count": 101,
   "id": "ee8d69c7",
   "metadata": {
    "hidden": true
   },
   "outputs": [
    {
     "name": "stdout",
     "output_type": "stream",
     "text": [
      "[[13.8629764  -5.6553144   1.32980506  3.40093711 -8.50752396]\n",
      " [-3.50106972  1.73701776  0.36737569 -2.25241956  3.0200903 ]\n",
      " [ 4.05870763 -2.14608916  0.92076842  2.68419798 -3.47594612]\n",
      " [ 0.58426185 -0.61193747  0.14678023 -0.47132843  1.3503639 ]\n",
      " [-8.05998808  4.55484519 -1.73171325 -1.26326671  3.61674012]]\n"
     ]
    }
   ],
   "source": [
    "# отримати зворотню матриці `det` (https://ru.wikipedia.org/wiki/Обратная_матрица)\n",
    "invM = np.linalg.inv(mat)\n",
    "print(invM)"
   ]
  },
  {
   "cell_type": "markdown",
   "id": "ba00d798",
   "metadata": {
    "hidden": true
   },
   "source": [
    "### ЗАВАДАННЯ 4"
   ]
  },
  {
   "cell_type": "code",
   "execution_count": 102,
   "id": "d5aa7c9e",
   "metadata": {
    "hidden": true
   },
   "outputs": [
    {
     "name": "stdout",
     "output_type": "stream",
     "text": [
      "[[0.51552441 0.35991248 0.04634742 ... 0.68092536 0.50557061 0.08440746]\n",
      " [0.83263323 0.24286286 0.89299663 ... 0.66728052 0.68106035 0.75825933]\n",
      " [0.33575255 0.54662179 0.20192745 ... 0.40033899 0.90751719 0.69427351]\n",
      " ...\n",
      " [0.89144347 0.05702931 0.89717364 ... 0.96552854 0.25281268 0.6982235 ]\n",
      " [0.4389387  0.38003208 0.55947337 ... 0.89361529 0.8207328  0.15316637]\n",
      " [0.04669249 0.65755775 0.27417135 ... 0.79972282 0.47368899 0.0348615 ]]\n"
     ]
    }
   ],
   "source": [
    "# ЗАВДАННЯ 4.1: створити квадратну матрицю з 36 рівномірно розподілених цілих \n",
    "# елементів з інтервалу 100 - 200\n",
    "mat4_1 = np.random.rand(100,200)\n",
    "print(mat4_1)"
   ]
  },
  {
   "cell_type": "code",
   "execution_count": 104,
   "id": "447a05c2",
   "metadata": {
    "hidden": true
   },
   "outputs": [
    {
     "name": "stdout",
     "output_type": "stream",
     "text": [
      "[0.51552441 0.24286286 0.20192745 0.11638418 0.2963206  0.25632618\n",
      " 0.32764963 0.90595239 0.4006488  0.3583771  0.69084707 0.30099474\n",
      " 0.58806664 0.91373279 0.12379038 0.67381234 0.47155741 0.96585065\n",
      " 0.18539594 0.99927999 0.125996   0.5077715  0.17780113 0.2702882\n",
      " 0.24703304 0.77174751 0.71772062 0.60397346 0.92934926 0.66825614\n",
      " 0.54329711 0.63803301 0.25498387 0.64159855 0.09870087 0.78711524\n",
      " 0.93387545 0.35226231 0.10639589 0.8288894  0.30603132 0.64606298\n",
      " 0.40219839 0.82180999 0.66795791 0.37090604 0.17283894 0.37496346\n",
      " 0.60487782 0.24476569 0.65645598 0.72046835 0.90063887 0.99020123\n",
      " 0.54398592 0.08624322 0.54917379 0.88595867 0.44223564 0.02298453\n",
      " 0.23110815 0.63752191 0.19868383 0.55833308 0.16192738 0.9928179\n",
      " 0.19430361 0.34096625 0.93836098 0.58836206 0.64296688 0.00438175\n",
      " 0.75234214 0.21837337 0.41722228 0.3689019  0.89410759 0.86954563\n",
      " 0.71994078 0.95279634 0.58757849 0.01803992 0.4456152  0.78815472\n",
      " 0.64683631 0.36936823 0.55251351 0.35591499 0.5212191  0.32715899\n",
      " 0.43827537 0.59297836 0.43318414 0.46610091 0.50270547 0.28862944\n",
      " 0.02662584 0.65795093 0.05707069 0.44703785]\n"
     ]
    }
   ],
   "source": [
    "# ЗАВДАННЯ 4.2: вивести головну діагональ матниці `mat4_1`\n",
    "diag4_2 = np.diag(mat4_1)\n",
    "print(diag4_2)"
   ]
  },
  {
   "cell_type": "code",
   "execution_count": 105,
   "id": "003c3c8b",
   "metadata": {
    "hidden": true
   },
   "outputs": [
    {
     "name": "stdout",
     "output_type": "stream",
     "text": [
      "[[0.51552441 0.83263323 0.33575255 ... 0.89144347 0.4389387  0.04669249]\n",
      " [0.35991248 0.24286286 0.54662179 ... 0.05702931 0.38003208 0.65755775]\n",
      " [0.04634742 0.89299663 0.20192745 ... 0.89717364 0.55947337 0.27417135]\n",
      " ...\n",
      " [0.68092536 0.66728052 0.40033899 ... 0.96552854 0.89361529 0.79972282]\n",
      " [0.50557061 0.68106035 0.90751719 ... 0.25281268 0.8207328  0.47368899]\n",
      " [0.08440746 0.75825933 0.69427351 ... 0.6982235  0.15316637 0.0348615 ]]\n"
     ]
    }
   ],
   "source": [
    "# ЗАВДАННЯ 4.3: транспонувати матрицю 'mat4_1'\n",
    "trans4_3 = mat4_1.T\n",
    "print(trans4_3)"
   ]
  },
  {
   "cell_type": "code",
   "execution_count": 111,
   "id": "0d05994a",
   "metadata": {
    "hidden": true
   },
   "outputs": [
    {
     "ename": "LinAlgError",
     "evalue": "Last 2 dimensions of the array must be square",
     "output_type": "error",
     "traceback": [
      "\u001b[1;31m---------------------------------------------------------------------------\u001b[0m",
      "\u001b[1;31mLinAlgError\u001b[0m                               Traceback (most recent call last)",
      "\u001b[1;32m<ipython-input-111-0564c9c185b4>\u001b[0m in \u001b[0;36m<module>\u001b[1;34m\u001b[0m\n\u001b[0;32m      1\u001b[0m \u001b[1;31m# ЗАВДАННЯ 4.4: вирахувати зворотню до 'mat4_1' матрицю\u001b[0m\u001b[1;33m\u001b[0m\u001b[1;33m\u001b[0m\u001b[1;33m\u001b[0m\u001b[0m\n\u001b[1;32m----> 2\u001b[1;33m \u001b[0minv4_4\u001b[0m \u001b[1;33m=\u001b[0m \u001b[0mnp\u001b[0m\u001b[1;33m.\u001b[0m\u001b[0mlinalg\u001b[0m\u001b[1;33m.\u001b[0m\u001b[0minv\u001b[0m\u001b[1;33m(\u001b[0m\u001b[0mmat4_1\u001b[0m\u001b[1;33m)\u001b[0m\u001b[1;33m\u001b[0m\u001b[1;33m\u001b[0m\u001b[0m\n\u001b[0m\u001b[0;32m      3\u001b[0m \u001b[0mprint\u001b[0m\u001b[1;33m(\u001b[0m\u001b[0minv4_4\u001b[0m\u001b[1;33m)\u001b[0m\u001b[1;33m\u001b[0m\u001b[1;33m\u001b[0m\u001b[0m\n",
      "\u001b[1;32m<__array_function__ internals>\u001b[0m in \u001b[0;36minv\u001b[1;34m(*args, **kwargs)\u001b[0m\n",
      "\u001b[1;32mD:\\Users\\Lenovo\\anaconda3\\lib\\site-packages\\numpy\\linalg\\linalg.py\u001b[0m in \u001b[0;36minv\u001b[1;34m(a)\u001b[0m\n\u001b[0;32m    538\u001b[0m     \u001b[0ma\u001b[0m\u001b[1;33m,\u001b[0m \u001b[0mwrap\u001b[0m \u001b[1;33m=\u001b[0m \u001b[0m_makearray\u001b[0m\u001b[1;33m(\u001b[0m\u001b[0ma\u001b[0m\u001b[1;33m)\u001b[0m\u001b[1;33m\u001b[0m\u001b[1;33m\u001b[0m\u001b[0m\n\u001b[0;32m    539\u001b[0m     \u001b[0m_assert_stacked_2d\u001b[0m\u001b[1;33m(\u001b[0m\u001b[0ma\u001b[0m\u001b[1;33m)\u001b[0m\u001b[1;33m\u001b[0m\u001b[1;33m\u001b[0m\u001b[0m\n\u001b[1;32m--> 540\u001b[1;33m     \u001b[0m_assert_stacked_square\u001b[0m\u001b[1;33m(\u001b[0m\u001b[0ma\u001b[0m\u001b[1;33m)\u001b[0m\u001b[1;33m\u001b[0m\u001b[1;33m\u001b[0m\u001b[0m\n\u001b[0m\u001b[0;32m    541\u001b[0m     \u001b[0mt\u001b[0m\u001b[1;33m,\u001b[0m \u001b[0mresult_t\u001b[0m \u001b[1;33m=\u001b[0m \u001b[0m_commonType\u001b[0m\u001b[1;33m(\u001b[0m\u001b[0ma\u001b[0m\u001b[1;33m)\u001b[0m\u001b[1;33m\u001b[0m\u001b[1;33m\u001b[0m\u001b[0m\n\u001b[0;32m    542\u001b[0m \u001b[1;33m\u001b[0m\u001b[0m\n",
      "\u001b[1;32mD:\\Users\\Lenovo\\anaconda3\\lib\\site-packages\\numpy\\linalg\\linalg.py\u001b[0m in \u001b[0;36m_assert_stacked_square\u001b[1;34m(*arrays)\u001b[0m\n\u001b[0;32m    201\u001b[0m         \u001b[0mm\u001b[0m\u001b[1;33m,\u001b[0m \u001b[0mn\u001b[0m \u001b[1;33m=\u001b[0m \u001b[0ma\u001b[0m\u001b[1;33m.\u001b[0m\u001b[0mshape\u001b[0m\u001b[1;33m[\u001b[0m\u001b[1;33m-\u001b[0m\u001b[1;36m2\u001b[0m\u001b[1;33m:\u001b[0m\u001b[1;33m]\u001b[0m\u001b[1;33m\u001b[0m\u001b[1;33m\u001b[0m\u001b[0m\n\u001b[0;32m    202\u001b[0m         \u001b[1;32mif\u001b[0m \u001b[0mm\u001b[0m \u001b[1;33m!=\u001b[0m \u001b[0mn\u001b[0m\u001b[1;33m:\u001b[0m\u001b[1;33m\u001b[0m\u001b[1;33m\u001b[0m\u001b[0m\n\u001b[1;32m--> 203\u001b[1;33m             \u001b[1;32mraise\u001b[0m \u001b[0mLinAlgError\u001b[0m\u001b[1;33m(\u001b[0m\u001b[1;34m'Last 2 dimensions of the array must be square'\u001b[0m\u001b[1;33m)\u001b[0m\u001b[1;33m\u001b[0m\u001b[1;33m\u001b[0m\u001b[0m\n\u001b[0m\u001b[0;32m    204\u001b[0m \u001b[1;33m\u001b[0m\u001b[0m\n\u001b[0;32m    205\u001b[0m \u001b[1;32mdef\u001b[0m \u001b[0m_assert_finite\u001b[0m\u001b[1;33m(\u001b[0m\u001b[1;33m*\u001b[0m\u001b[0marrays\u001b[0m\u001b[1;33m)\u001b[0m\u001b[1;33m:\u001b[0m\u001b[1;33m\u001b[0m\u001b[1;33m\u001b[0m\u001b[0m\n",
      "\u001b[1;31mLinAlgError\u001b[0m: Last 2 dimensions of the array must be square"
     ]
    }
   ],
   "source": [
    "# ЗАВДАННЯ 4.4: вирахувати зворотню до 'mat4_1' матрицю \n",
    "inv4_4 = np.linalg.inv(mat4_1)\n",
    "print(inv4_4)"
   ]
  },
  {
   "cell_type": "markdown",
   "id": "836e63ef",
   "metadata": {
    "heading_collapsed": true
   },
   "source": [
    "## 5. Операції над масивами"
   ]
  },
  {
   "cell_type": "markdown",
   "id": "d1ed164b",
   "metadata": {
    "hidden": true
   },
   "source": [
    "### ПРИКЛАДИ"
   ]
  },
  {
   "cell_type": "code",
   "execution_count": null,
   "id": "526be685",
   "metadata": {
    "hidden": true
   },
   "outputs": [],
   "source": [
    "# задати вектор з 10 елементів\n",
    "vect = np.array([1, 3, 2, -3, 5, 0])"
   ]
  },
  {
   "cell_type": "code",
   "execution_count": 112,
   "id": "841d8832",
   "metadata": {
    "hidden": true
   },
   "outputs": [
    {
     "data": {
      "text/plain": [
       "Ellipsis"
      ]
     },
     "execution_count": 112,
     "metadata": {},
     "output_type": "execute_result"
    }
   ],
   "source": [
    "# вирахувати суму елеметнів\n",
    "s = np.sum(vect)\n",
    "\n",
    "# знайти мінімальний ел-т\n",
    "m = np.min(vect)\n",
    "\n",
    "# відсортувати вектор по зростанню\n",
    "vs = np.sort(vect)\n",
    "\n",
    "# знайти середнє значення\n",
    "mid = np.average(vect)\n",
    "..."
   ]
  },
  {
   "cell_type": "code",
   "execution_count": null,
   "id": "e93a77e7",
   "metadata": {
    "hidden": true
   },
   "outputs": [],
   "source": [
    "# матриця 3х3 сконструйована різними методами\n",
    "mat = np.array([np.arange(1,4), [-2, 4, 6], np.full(3,77)])\n",
    "print(mat)"
   ]
  },
  {
   "cell_type": "code",
   "execution_count": null,
   "id": "12515cb2",
   "metadata": {
    "hidden": true
   },
   "outputs": [],
   "source": [
    "# сума по колонкам `axis=0`\n",
    "s = np.sum(mat, axis=0)\n",
    "print(s)"
   ]
  },
  {
   "cell_type": "code",
   "execution_count": null,
   "id": "1f559e9d",
   "metadata": {
    "hidden": true
   },
   "outputs": [],
   "source": [
    "# мінімум по рядкам\n",
    "m = np.min(mat, axis=1)\n",
    "print(m)"
   ]
  },
  {
   "cell_type": "code",
   "execution_count": null,
   "id": "d4fd582d",
   "metadata": {
    "hidden": true
   },
   "outputs": [],
   "source": [
    "# збільшити ел-ти масива вдвічі\n",
    "v2 = mat * 2\n",
    "print(v2)"
   ]
  },
  {
   "cell_type": "code",
   "execution_count": null,
   "id": "4aefcf63",
   "metadata": {
    "hidden": true
   },
   "outputs": [],
   "source": [
    "M = np.array([[1,2,3],[4,-3,6],[7,8,0]])\n",
    "N = np.array([[1,1,1],[2,2,2],[3,3,3]])\n",
    "print(M, N, sep=\"\\n\")"
   ]
  },
  {
   "cell_type": "code",
   "execution_count": null,
   "id": "c97502a9",
   "metadata": {
    "hidden": true
   },
   "outputs": [],
   "source": [
    "# перемножити елементи матриць M, N\n",
    "K = M * N\n",
    "print(K)\n",
    "# або ->\n",
    "K = np.multiply(N, M)\n",
    "print(K)"
   ]
  },
  {
   "cell_type": "code",
   "execution_count": null,
   "id": "4c6573ad",
   "metadata": {
    "hidden": true
   },
   "outputs": [],
   "source": [
    "# поелементний поділ\n",
    "K = N / M\n",
    "print(K)"
   ]
  },
  {
   "cell_type": "code",
   "execution_count": null,
   "id": "cdd63170",
   "metadata": {
    "hidden": true
   },
   "outputs": [],
   "source": [
    "# скалярне множення матриць (https://ru.wikipedia.org/wiki/Умножение_матриц)\n",
    "prod = np.dot(N, M)\n",
    "print(prod)"
   ]
  },
  {
   "cell_type": "code",
   "execution_count": null,
   "id": "b82fe63f",
   "metadata": {
    "hidden": true
   },
   "outputs": [],
   "source": [
    "# возвести матрицю `prod` в ступінь 3\n",
    "pmat = np.linalg.matrix_power(prod, 3)\n",
    "print(pmat)"
   ]
  },
  {
   "cell_type": "code",
   "execution_count": null,
   "id": "f953fc44",
   "metadata": {
    "hidden": true
   },
   "outputs": [],
   "source": [
    "# додати елементи до 1-вимірного масива\n",
    "mat = np.array([1,2,3])\n",
    "mat = np.append(mat, [5,6,7,8])\n",
    "print(mat)"
   ]
  },
  {
   "cell_type": "code",
   "execution_count": null,
   "id": "db3cc1b6",
   "metadata": {
    "hidden": true
   },
   "outputs": [],
   "source": [
    "# вставити елемент `4` в масив після 3-го елемента\n",
    "mat = np.insert(mat, 3, 4)\n",
    "print(mat)"
   ]
  },
  {
   "cell_type": "code",
   "execution_count": null,
   "id": "fe415a92",
   "metadata": {
    "hidden": true
   },
   "outputs": [],
   "source": [
    "# видалити елемент з індексом 6\n",
    "mat = np.delete(mat, 6)\n",
    "print(mat)"
   ]
  },
  {
   "cell_type": "code",
   "execution_count": null,
   "id": "d4aaf37b",
   "metadata": {
    "hidden": true
   },
   "outputs": [],
   "source": [
    "#  копіювання та присвоювання масивів\n",
    "M = np.random.randint(1, 10, 5 )\n",
    "print(M)\n",
    "\n",
    "# присвоїти масив `M` в `N`\n",
    "N = M\n",
    "print(N)\n",
    "print(id(M), id(N))\n",
    "\n",
    "# копіювати масив `M` в `K`\n",
    "K = np.copy(M)\n",
    "print(K)\n",
    "print(id(M), id(K))"
   ]
  },
  {
   "cell_type": "code",
   "execution_count": null,
   "id": "f4c1dea4",
   "metadata": {
    "hidden": true
   },
   "outputs": [],
   "source": [
    "# конкатенація масивів по рядкам\n",
    "arr1 = np.array([[1,2,3,4], [1,2,3,4]])\n",
    "arr2 = np.array([[5,6,7,8], [5,6,7,8]])\n",
    "arr3 = np.concatenate((arr1, arr2), axis=0)\n",
    "print(arr3)\n",
    "# по колонкам `axis = 1`\n",
    "arr4 = np.concatenate((arr1, arr2), axis=1)\n",
    "print(arr4)"
   ]
  },
  {
   "cell_type": "markdown",
   "id": "c97162c9",
   "metadata": {
    "hidden": true
   },
   "source": [
    "### ЗАВДАННЯ 5"
   ]
  },
  {
   "cell_type": "code",
   "execution_count": 130,
   "id": "966132ea",
   "metadata": {
    "hidden": true
   },
   "outputs": [
    {
     "name": "stdout",
     "output_type": "stream",
     "text": [
      "[13 13 17 21]\n"
     ]
    }
   ],
   "source": [
    "# ЗАВДАННЯ 5.1: просумувати по рядкам масив випадкових чисел розмірностю 3х4\n",
    "mat5_1 = np.random.randint(1,12, (3,4))\n",
    "sum_mat5_1 = np.sum(mat5_1, axis=0)\n",
    "print(sum_mat5_1)\n"
   ]
  },
  {
   "cell_type": "code",
   "execution_count": 131,
   "id": "622455c1",
   "metadata": {
    "hidden": true
   },
   "outputs": [
    {
     "name": "stdout",
     "output_type": "stream",
     "text": [
      "13\n"
     ]
    }
   ],
   "source": [
    "# ЗАВДАННЯ 5.2: знайти мінімальний елемент матриці `sum_mat5_1`\n",
    "min_mat5_1 =np.min(sum_mat5_1)\n",
    "print(min_mat5_1)"
   ]
  },
  {
   "cell_type": "code",
   "execution_count": 132,
   "id": "31f50295",
   "metadata": {
    "hidden": true
   },
   "outputs": [
    {
     "name": "stdout",
     "output_type": "stream",
     "text": [
      "[[105 101 106 106]\n",
      " [103 102 105 104]\n",
      " [105 110 106 111]]\n"
     ]
    }
   ],
   "source": [
    "# ЗАВДАННЯ 5.3: створити масив додавши до елементів `mat5_1`  число 100\n",
    "mat5_3 = np.array( mat5_1+100)\n",
    "print(mat5_3)"
   ]
  },
  {
   "cell_type": "code",
   "execution_count": 177,
   "id": "92665601",
   "metadata": {
    "hidden": true,
    "scrolled": true
   },
   "outputs": [
    {
     "name": "stdout",
     "output_type": "stream",
     "text": [
      "[[11025 10605 11130 11130]\n",
      " [10815 10710 11025 10920]\n",
      " [11025 11550 11130 11655]]\n"
     ]
    }
   ],
   "source": [
    "# ЗАВДАННЯ 5.4: помножити матрицю `mat5_1` на головну діагональ матриці `mat5_3`\n",
    "v=np.diag(mat5_3)\n",
    "a=np.diag([v])\n",
    "\n",
    "mat5_4 = np.multiply(mat5_3,a)\n",
    "print(mat5_4)\n"
   ]
  },
  {
   "cell_type": "code",
   "execution_count": 179,
   "id": "eccfcadf",
   "metadata": {
    "hidden": true
   },
   "outputs": [
    {
     "ename": "TypeError",
     "evalue": "only integer scalar arrays can be converted to a scalar index",
     "output_type": "error",
     "traceback": [
      "\u001b[1;31m---------------------------------------------------------------------------\u001b[0m",
      "\u001b[1;31mTypeError\u001b[0m                                 Traceback (most recent call last)",
      "\u001b[1;32m<ipython-input-179-82930a6ba3ae>\u001b[0m in \u001b[0;36m<module>\u001b[1;34m\u001b[0m\n\u001b[0;32m      1\u001b[0m \u001b[1;31m# ЗАВДАННЯ 5.5: додати справа до матриці `mat5_3` матрицю `mat5_4`\u001b[0m\u001b[1;33m\u001b[0m\u001b[1;33m\u001b[0m\u001b[1;33m\u001b[0m\u001b[0m\n\u001b[0;32m      2\u001b[0m \u001b[1;31m# вивести ранг отриманої матриці\u001b[0m\u001b[1;33m\u001b[0m\u001b[1;33m\u001b[0m\u001b[1;33m\u001b[0m\u001b[0m\n\u001b[1;32m----> 3\u001b[1;33m \u001b[0mmat5_5\u001b[0m \u001b[1;33m=\u001b[0m \u001b[0mnp\u001b[0m\u001b[1;33m.\u001b[0m\u001b[0mconcatenate\u001b[0m\u001b[1;33m(\u001b[0m\u001b[0mmat5_4\u001b[0m\u001b[1;33m,\u001b[0m \u001b[0mmat5_3\u001b[0m\u001b[1;33m)\u001b[0m\u001b[1;33m\u001b[0m\u001b[1;33m\u001b[0m\u001b[0m\n\u001b[0m\u001b[0;32m      4\u001b[0m \u001b[0mprint\u001b[0m\u001b[1;33m(\u001b[0m\u001b[0mnp\u001b[0m\u001b[1;33m.\u001b[0m\u001b[0mlinang\u001b[0m\u001b[1;33m.\u001b[0m\u001b[0mdet\u001b[0m\u001b[1;33m(\u001b[0m\u001b[0mmat5_5\u001b[0m\u001b[1;33m)\u001b[0m\u001b[1;33m)\u001b[0m\u001b[1;33m\u001b[0m\u001b[1;33m\u001b[0m\u001b[0m\n\u001b[0;32m      5\u001b[0m \u001b[1;33m...\u001b[0m\u001b[1;33m\u001b[0m\u001b[1;33m\u001b[0m\u001b[0m\n",
      "\u001b[1;32m<__array_function__ internals>\u001b[0m in \u001b[0;36mconcatenate\u001b[1;34m(*args, **kwargs)\u001b[0m\n",
      "\u001b[1;31mTypeError\u001b[0m: only integer scalar arrays can be converted to a scalar index"
     ]
    }
   ],
   "source": [
    "# ЗАВДАННЯ 5.5: додати справа до матриці `mat5_3` матрицю `mat5_4` \n",
    "# вивести ранг отриманої матриці\n",
    "mat5_5 = np.concatenate(mat5_4, mat5_3)\n",
    "print(np.linang.det(mat5_5))\n",
    "..."
   ]
  },
  {
   "cell_type": "code",
   "execution_count": null,
   "id": "75ff9d9e",
   "metadata": {},
   "outputs": [],
   "source": []
  }
 ],
 "metadata": {
  "kernelspec": {
   "display_name": "Python 3",
   "language": "python",
   "name": "python3"
  },
  "language_info": {
   "codemirror_mode": {
    "name": "ipython",
    "version": 3
   },
   "file_extension": ".py",
   "mimetype": "text/x-python",
   "name": "python",
   "nbconvert_exporter": "python",
   "pygments_lexer": "ipython3",
   "version": "3.8.8"
  },
  "varInspector": {
   "cols": {
    "lenName": 16,
    "lenType": 16,
    "lenVar": 40
   },
   "kernels_config": {
    "python": {
     "delete_cmd_postfix": "",
     "delete_cmd_prefix": "del ",
     "library": "var_list.py",
     "varRefreshCmd": "print(var_dic_list())"
    },
    "r": {
     "delete_cmd_postfix": ") ",
     "delete_cmd_prefix": "rm(",
     "library": "var_list.r",
     "varRefreshCmd": "cat(var_dic_list()) "
    }
   },
   "types_to_exclude": [
    "module",
    "function",
    "builtin_function_or_method",
    "instance",
    "_Feature"
   ],
   "window_display": false
  }
 },
 "nbformat": 4,
 "nbformat_minor": 5
}
